{
 "cells": [
  {
   "cell_type": "code",
   "execution_count": null,
   "metadata": {},
   "outputs": [],
   "source": [
    "import pandas as pd\n",
    "import text2emotion as te"
   ]
  },
  {
   "cell_type": "code",
   "execution_count": null,
   "metadata": {},
   "outputs": [],
   "source": [
    "text = \"I was asked to sign a third party contract a week out from stay. If it wasn't an 8 person group that took a lot of wrangling I would have cancelled the booking straight away. Bathrooms - there are no stand alone bathrooms. Please consider this - you have to clear out the main bedroom to use that bathroom. Other option is you walk through a different bedroom to get to its en-suite. Signs all over the apartment - there are signs everywhere - some helpful - some telling you rules. Perhaps some people like this but It negatively affected our enjoyment of the accommodation. Stairs - lots of them - some had slightly bending wood which caused a minor injury.\"\n"
   ]
  },
  {
   "cell_type": "code",
   "execution_count": null,
   "metadata": {},
   "outputs": [],
   "source": [
    "te.get_emotion(text)\n"
   ]
  },
  {
   "cell_type": "code",
   "execution_count": null,
   "metadata": {},
   "outputs": [],
   "source": [
    "data1 = pd.read_excel(\"ggw_set1code_800.xlsx\")\n",
    "data2 = pd.read_csv(\"ggw_set2code_finalcoded.csv\", encoding=\"ISO-8859-1\")\n",
    "data = pd.concat([data1, data2])"
   ]
  },
  {
   "cell_type": "code",
   "execution_count": null,
   "metadata": {},
   "outputs": [],
   "source": [
    "data = pd.read_csv(\"csc_finalcombo.csv\")"
   ]
  },
  {
   "cell_type": "code",
   "execution_count": null,
   "metadata": {},
   "outputs": [],
   "source": [
    "data['Category'] = data['Category'].str.strip()"
   ]
  },
  {
   "cell_type": "code",
   "execution_count": null,
   "metadata": {},
   "outputs": [],
   "source": [
    "data['author'].nunique()"
   ]
  },
  {
   "cell_type": "code",
   "execution_count": null,
   "metadata": {},
   "outputs": [],
   "source": [
    "data['Category'].shape"
   ]
  },
  {
   "cell_type": "code",
   "execution_count": null,
   "metadata": {},
   "outputs": [],
   "source": [
    "ids = list(data['sub_id'].unique())"
   ]
  },
  {
   "cell_type": "code",
   "execution_count": null,
   "metadata": {},
   "outputs": [],
   "source": [
    "#calculating date statistics\n",
    "import datetime\n",
    "main_data = pd.read_csv(\"girlsgonewired_sample150_filtered.csv\")\n",
    "data_sub = main_data[main_data['id'].isin(ids)]\n",
    "print(datetime.datetime.fromtimestamp(min(data_sub['created_utc'])).isoformat())\n",
    "print(datetime.datetime.fromtimestamp(max(data_sub['created_utc'])).isoformat())\n"
   ]
  },
  {
   "cell_type": "code",
   "execution_count": null,
   "metadata": {},
   "outputs": [],
   "source": [
    "# Doing some cleanups and refractoring of categories\n",
    "data[\"Category\"] = data[\"Category\"].str.replace('^(?i)Struggles.*$', 'Impression management')\n",
    "data[\"Category\"] = data[\"Category\"].str.replace('^(?i)Comm.*$', 'Community building')\n",
    "data[\"Category\"] = data[\"Category\"].str.replace('^(?i)Reflection.*$', 'Reflections')\n",
    "data[\"Category\"] = data[\"Category\"].str.replace('^(?i)Resource.*$', 'Resource development')\n",
    "data[\"Category\"] = data[\"Category\"].str.replace('^(?i)Survival.*$', 'Survival tactics')\n",
    "data[\"Category\"] = data[\"Category\"].str.replace('^(?i)Navigating.*$', 'Navigating exclusions')"
   ]
  },
  {
   "cell_type": "code",
   "execution_count": null,
   "metadata": {},
   "outputs": [],
   "source": [
    "(data['Category'].value_counts()/1062)*100"
   ]
  },
  {
   "cell_type": "code",
   "execution_count": null,
   "metadata": {},
   "outputs": [],
   "source": [
    "texts = data['selftext']"
   ]
  },
  {
   "cell_type": "code",
   "execution_count": null,
   "metadata": {},
   "outputs": [],
   "source": [
    "test = data[data['author']=='xxxxx']\n",
    "test.shape"
   ]
  },
  {
   "cell_type": "code",
   "execution_count": null,
   "metadata": {},
   "outputs": [],
   "source": [
    "emotions = []\n",
    "count = 0\n",
    "for i in texts:\n",
    "    em = te.get_emotion(i)\n",
    "    max_value = max(em, key=em.get)\n",
    "    print(f'cur countL {count}, {max_value}')\n",
    "    emotions.append(max_value)\n",
    "    count+=1\n",
    "#print(emotions)\n"
   ]
  },
  {
   "cell_type": "code",
   "execution_count": null,
   "metadata": {},
   "outputs": [],
   "source": [
    "data['emotions'] = emotions"
   ]
  },
  {
   "cell_type": "code",
   "execution_count": null,
   "metadata": {},
   "outputs": [],
   "source": [
    "emotions_g = data['emotions'].value_counts()"
   ]
  },
  {
   "cell_type": "code",
   "execution_count": null,
   "metadata": {},
   "outputs": [],
   "source": [
    "emotions = pd.DataFrame({'Emotion':emotions_g.index, 'count':emotions_g})"
   ]
  },
  {
   "cell_type": "code",
   "execution_count": null,
   "metadata": {},
   "outputs": [],
   "source": [
    "from matplotlib import pyplot as plt\n",
    "plt.figure(figsize=(10,5))\n",
    "ax = plt.gca()\n",
    "emotions.plot(kind='pie', y='count', ax=ax)\n",
    "plt.legend(loc='upper right')"
   ]
  },
  {
   "cell_type": "code",
   "execution_count": null,
   "metadata": {},
   "outputs": [],
   "source": [
    "#Just a test -- don't rerun\n",
    "data = data.iloc[:800]"
   ]
  },
  {
   "cell_type": "code",
   "execution_count": null,
   "metadata": {},
   "outputs": [],
   "source": [
    "data.shape"
   ]
  },
  {
   "cell_type": "code",
   "execution_count": null,
   "metadata": {},
   "outputs": [],
   "source": [
    "data.columns"
   ]
  },
  {
   "cell_type": "code",
   "execution_count": null,
   "metadata": {},
   "outputs": [],
   "source": [
    "data.author.nunique()"
   ]
  },
  {
   "cell_type": "code",
   "execution_count": null,
   "metadata": {},
   "outputs": [],
   "source": [
    "user_cat =  data[['author','Category']]\n",
    "user_cat = user_cat[user_cat['author']!='None'] #drop those that don't have any user details\n",
    "grouped_data_user = user_cat.groupby(['author','Category']).size().unstack().fillna(0)\n",
    "grouped_data_user.loc[:,'Total'] = grouped_data_user.sum(axis=1)"
   ]
  },
  {
   "cell_type": "code",
   "execution_count": null,
   "metadata": {},
   "outputs": [],
   "source": [
    "grouped_data_user = grouped_data_user.sort_values(by='navigating enclusions and toxicity', ascending=False) #get some totals"
   ]
  },
  {
   "cell_type": "code",
   "execution_count": null,
   "metadata": {},
   "outputs": [],
   "source": [
    "grouped_data_user.reset_index()"
   ]
  },
  {
   "cell_type": "code",
   "execution_count": null,
   "metadata": {},
   "outputs": [],
   "source": [
    "grouped_data_user['Total'].sum()\n",
    "grouped_data_user.to_csv(\"User_topic_categorization.csv\")"
   ]
  },
  {
   "cell_type": "code",
   "execution_count": null,
   "metadata": {},
   "outputs": [],
   "source": [
    "#grouped_data_user.loc['xxx',:] #just checking for the most prominant actor (as per network visuals)\n",
    "grouped_data_user.loc['xxx',:]\n",
    "#grouped_data_user.loc['xxx',:]\n",
    "grouped_data_user.loc['xxxx',:]"
   ]
  },
  {
   "cell_type": "markdown",
   "metadata": {},
   "source": [
    "## Moving to user - emotion mapping!"
   ]
  },
  {
   "cell_type": "code",
   "execution_count": null,
   "metadata": {},
   "outputs": [],
   "source": [
    "emo_cat = data[['Category','emotions']]"
   ]
  },
  {
   "cell_type": "code",
   "execution_count": null,
   "metadata": {},
   "outputs": [],
   "source": [
    "grouped_data = emo_cat.groupby(['Category','emotions']).size().unstack()"
   ]
  },
  {
   "cell_type": "code",
   "execution_count": null,
   "metadata": {},
   "outputs": [],
   "source": [
    "from matplotlib import pyplot as plt\n",
    "plt.figure(figsize=(14,5))\n",
    "ax = plt.gca()\n",
    "grouped_data.plot(kind='bar', stacked='True', ax=ax)\n",
    "plt.xticks(rotation=0, ha='center')\n",
    "plt.legend(loc='upper left', bbox_to_anchor=(1, 1))\n",
    "\n"
   ]
  }
 ],
 "metadata": {
  "kernelspec": {
   "display_name": "Python 3",
   "language": "python",
   "name": "python3"
  },
  "language_info": {
   "codemirror_mode": {
    "name": "ipython",
    "version": 3
   },
   "file_extension": ".py",
   "mimetype": "text/x-python",
   "name": "python",
   "nbconvert_exporter": "python",
   "pygments_lexer": "ipython3",
   "version": "3.7.3"
  }
 },
 "nbformat": 4,
 "nbformat_minor": 2
}
