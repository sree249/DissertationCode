{
 "cells": [
  {
   "cell_type": "code",
   "execution_count": 1,
   "metadata": {},
   "outputs": [],
   "source": [
    "import pandas as pd"
   ]
  },
  {
   "cell_type": "code",
   "execution_count": 68,
   "metadata": {},
   "outputs": [],
   "source": [
    "data1 = pd.read_csv(\"csc_threads.csv\")[['id', 'author', 'selftext','created_utc', 'score']]"
   ]
  },
  {
   "cell_type": "code",
   "execution_count": 69,
   "metadata": {},
   "outputs": [],
   "source": [
    "data1['sub_id'] = data1['id']\n",
    "data1['parent_id']='Null'"
   ]
  },
  {
   "cell_type": "code",
   "execution_count": 70,
   "metadata": {},
   "outputs": [
    {
     "data": {
      "text/plain": [
       "(33011, 7)"
      ]
     },
     "execution_count": 70,
     "metadata": {},
     "output_type": "execute_result"
    }
   ],
   "source": [
    "data1.shape"
   ]
  },
  {
   "cell_type": "code",
   "execution_count": 71,
   "metadata": {},
   "outputs": [
    {
     "data": {
      "text/html": [
       "<div>\n",
       "<style scoped>\n",
       "    .dataframe tbody tr th:only-of-type {\n",
       "        vertical-align: middle;\n",
       "    }\n",
       "\n",
       "    .dataframe tbody tr th {\n",
       "        vertical-align: top;\n",
       "    }\n",
       "\n",
       "    .dataframe thead th {\n",
       "        text-align: right;\n",
       "    }\n",
       "</style>\n",
       "<table border=\"1\" class=\"dataframe\">\n",
       "  <thead>\n",
       "    <tr style=\"text-align: right;\">\n",
       "      <th></th>\n",
       "      <th>id</th>\n",
       "      <th>author</th>\n",
       "      <th>selftext</th>\n",
       "      <th>created_utc</th>\n",
       "      <th>score</th>\n",
       "      <th>sub_id</th>\n",
       "      <th>parent_id</th>\n",
       "    </tr>\n",
       "  </thead>\n",
       "  <tbody>\n",
       "    <tr>\n",
       "      <th>0</th>\n",
       "      <td>ko57ok</td>\n",
       "      <td>BucksThirtyFour</td>\n",
       "      <td>So at the moment I work in a factory, 7 days a...</td>\n",
       "      <td>1609476460</td>\n",
       "      <td>1</td>\n",
       "      <td>ko57ok</td>\n",
       "      <td>Null</td>\n",
       "    </tr>\n",
       "    <tr>\n",
       "      <th>1</th>\n",
       "      <td>ko54fe</td>\n",
       "      <td>LilithMoonlight</td>\n",
       "      <td>Hello all,\\nI was applying to many different c...</td>\n",
       "      <td>1609476032</td>\n",
       "      <td>1</td>\n",
       "      <td>ko54fe</td>\n",
       "      <td>Null</td>\n",
       "    </tr>\n",
       "    <tr>\n",
       "      <th>2</th>\n",
       "      <td>ko4zqu</td>\n",
       "      <td>Spycii</td>\n",
       "      <td>I’m a sophomore headed into my 2nd semester, m...</td>\n",
       "      <td>1609475439</td>\n",
       "      <td>1</td>\n",
       "      <td>ko4zqu</td>\n",
       "      <td>Null</td>\n",
       "    </tr>\n",
       "    <tr>\n",
       "      <th>3</th>\n",
       "      <td>ko4wmt</td>\n",
       "      <td>EasyPapaya</td>\n",
       "      <td>College student applying for internships. Whic...</td>\n",
       "      <td>1609475031</td>\n",
       "      <td>1</td>\n",
       "      <td>ko4wmt</td>\n",
       "      <td>Null</td>\n",
       "    </tr>\n",
       "    <tr>\n",
       "      <th>4</th>\n",
       "      <td>ko4hw1</td>\n",
       "      <td>buggs_bunnee</td>\n",
       "      <td>Before I start telling you about my situation ...</td>\n",
       "      <td>1609473210</td>\n",
       "      <td>1</td>\n",
       "      <td>ko4hw1</td>\n",
       "      <td>Null</td>\n",
       "    </tr>\n",
       "  </tbody>\n",
       "</table>\n",
       "</div>"
      ],
      "text/plain": [
       "       id           author                                           selftext  \\\n",
       "0  ko57ok  BucksThirtyFour  So at the moment I work in a factory, 7 days a...   \n",
       "1  ko54fe  LilithMoonlight  Hello all,\\nI was applying to many different c...   \n",
       "2  ko4zqu           Spycii  I’m a sophomore headed into my 2nd semester, m...   \n",
       "3  ko4wmt       EasyPapaya  College student applying for internships. Whic...   \n",
       "4  ko4hw1     buggs_bunnee  Before I start telling you about my situation ...   \n",
       "\n",
       "   created_utc  score  sub_id parent_id  \n",
       "0   1609476460      1  ko57ok      Null  \n",
       "1   1609476032      1  ko54fe      Null  \n",
       "2   1609475439      1  ko4zqu      Null  \n",
       "3   1609475031      1  ko4wmt      Null  \n",
       "4   1609473210      1  ko4hw1      Null  "
      ]
     },
     "execution_count": 71,
     "metadata": {},
     "output_type": "execute_result"
    }
   ],
   "source": [
    "data1.head(5)"
   ]
  },
  {
   "cell_type": "code",
   "execution_count": 72,
   "metadata": {},
   "outputs": [],
   "source": [
    "data2 = pd.read_csv(\"csc_comm.csv\")[['author', 'parent_id', 'sub_id','id', 'selftext','created_utc', 'score']]"
   ]
  },
  {
   "cell_type": "code",
   "execution_count": 73,
   "metadata": {},
   "outputs": [],
   "source": [
    "from datetime import datetime\n",
    "data2['created_utc'] = data2['created_utc'].apply(lambda x: datetime.fromtimestamp(x).isoformat())"
   ]
  },
  {
   "cell_type": "code",
   "execution_count": 74,
   "metadata": {},
   "outputs": [],
   "source": [
    "data2['parent_id'] = data2['parent_id'].str.replace(\"t1_\",\"\")\n",
    "data2['parent_id'] = data2['parent_id'].str.replace(\"t3_\",\"\")"
   ]
  },
  {
   "cell_type": "code",
   "execution_count": 75,
   "metadata": {},
   "outputs": [
    {
     "data": {
      "text/plain": [
       "(399225, 7)"
      ]
     },
     "execution_count": 75,
     "metadata": {},
     "output_type": "execute_result"
    }
   ],
   "source": [
    "data2.shape"
   ]
  },
  {
   "cell_type": "code",
   "execution_count": 76,
   "metadata": {},
   "outputs": [
    {
     "name": "stderr",
     "output_type": "stream",
     "text": [
      "C:\\Users\\Sree\\Anaconda3\\lib\\site-packages\\ipykernel_launcher.py:1: FutureWarning: Sorting because non-concatenation axis is not aligned. A future version\n",
      "of pandas will change to not sort by default.\n",
      "\n",
      "To accept the future behavior, pass 'sort=False'.\n",
      "\n",
      "To retain the current behavior and silence the warning, pass 'sort=True'.\n",
      "\n",
      "  \"\"\"Entry point for launching an IPython kernel.\n"
     ]
    }
   ],
   "source": [
    "data_combo = pd.concat([data1, data2])"
   ]
  },
  {
   "cell_type": "code",
   "execution_count": 77,
   "metadata": {},
   "outputs": [],
   "source": [
    "data_combo = data_combo.dropna(subset=['author'])"
   ]
  },
  {
   "cell_type": "code",
   "execution_count": 78,
   "metadata": {},
   "outputs": [
    {
     "data": {
      "text/plain": [
       "(392287, 7)"
      ]
     },
     "execution_count": 78,
     "metadata": {},
     "output_type": "execute_result"
    }
   ],
   "source": [
    "data_combo.shape"
   ]
  },
  {
   "cell_type": "code",
   "execution_count": 79,
   "metadata": {
    "scrolled": true
   },
   "outputs": [],
   "source": [
    "data_combo = data_combo.sort_values(by=['sub_id'])"
   ]
  },
  {
   "cell_type": "code",
   "execution_count": 80,
   "metadata": {},
   "outputs": [
    {
     "data": {
      "text/html": [
       "<div>\n",
       "<style scoped>\n",
       "    .dataframe tbody tr th:only-of-type {\n",
       "        vertical-align: middle;\n",
       "    }\n",
       "\n",
       "    .dataframe tbody tr th {\n",
       "        vertical-align: top;\n",
       "    }\n",
       "\n",
       "    .dataframe thead th {\n",
       "        text-align: right;\n",
       "    }\n",
       "</style>\n",
       "<table border=\"1\" class=\"dataframe\">\n",
       "  <thead>\n",
       "    <tr style=\"text-align: right;\">\n",
       "      <th></th>\n",
       "      <th>author</th>\n",
       "      <th>created_utc</th>\n",
       "      <th>id</th>\n",
       "      <th>parent_id</th>\n",
       "      <th>score</th>\n",
       "      <th>selftext</th>\n",
       "      <th>sub_id</th>\n",
       "    </tr>\n",
       "  </thead>\n",
       "  <tbody>\n",
       "    <tr>\n",
       "      <th>399223</th>\n",
       "      <td>The_Sacred_Cow</td>\n",
       "      <td>2019-11-27T17:47:13</td>\n",
       "      <td>f8wnard</td>\n",
       "      <td>f8whgiu</td>\n",
       "      <td>2</td>\n",
       "      <td>What self study certifications were the bigges...</td>\n",
       "      <td>e2mgye</td>\n",
       "    </tr>\n",
       "    <tr>\n",
       "      <th>33010</th>\n",
       "      <td>The_Sacred_Cow</td>\n",
       "      <td>1574887455</td>\n",
       "      <td>e2mgye</td>\n",
       "      <td>Null</td>\n",
       "      <td>1</td>\n",
       "      <td>I wasn't quite sure where to post this questio...</td>\n",
       "      <td>e2mgye</td>\n",
       "    </tr>\n",
       "    <tr>\n",
       "      <th>399221</th>\n",
       "      <td>ayyyyy</td>\n",
       "      <td>2019-11-27T15:48:57</td>\n",
       "      <td>f8wcj3g</td>\n",
       "      <td>e2mgye</td>\n",
       "      <td>-1</td>\n",
       "      <td>What I've sadly learned is that, if you don't ...</td>\n",
       "      <td>e2mgye</td>\n",
       "    </tr>\n",
       "    <tr>\n",
       "      <th>399219</th>\n",
       "      <td>housebabyy</td>\n",
       "      <td>2019-11-27T16:47:11</td>\n",
       "      <td>f8whz87</td>\n",
       "      <td>e2mgye</td>\n",
       "      <td>7</td>\n",
       "      <td>Dropping out of college is incredibly stupid i...</td>\n",
       "      <td>e2mgye</td>\n",
       "    </tr>\n",
       "    <tr>\n",
       "      <th>399218</th>\n",
       "      <td>weather_babe</td>\n",
       "      <td>2019-11-27T16:37:13</td>\n",
       "      <td>f8wh24k</td>\n",
       "      <td>e2mgye</td>\n",
       "      <td>10</td>\n",
       "      <td>Enroll in the compsci program at your universi...</td>\n",
       "      <td>e2mgye</td>\n",
       "    </tr>\n",
       "  </tbody>\n",
       "</table>\n",
       "</div>"
      ],
      "text/plain": [
       "                author          created_utc       id parent_id  score  \\\n",
       "399223  The_Sacred_Cow  2019-11-27T17:47:13  f8wnard   f8whgiu      2   \n",
       "33010   The_Sacred_Cow           1574887455   e2mgye      Null      1   \n",
       "399221          ayyyyy  2019-11-27T15:48:57  f8wcj3g    e2mgye     -1   \n",
       "399219      housebabyy  2019-11-27T16:47:11  f8whz87    e2mgye      7   \n",
       "399218    weather_babe  2019-11-27T16:37:13  f8wh24k    e2mgye     10   \n",
       "\n",
       "                                                 selftext  sub_id  \n",
       "399223  What self study certifications were the bigges...  e2mgye  \n",
       "33010   I wasn't quite sure where to post this questio...  e2mgye  \n",
       "399221  What I've sadly learned is that, if you don't ...  e2mgye  \n",
       "399219  Dropping out of college is incredibly stupid i...  e2mgye  \n",
       "399218  Enroll in the compsci program at your universi...  e2mgye  "
      ]
     },
     "execution_count": 80,
     "metadata": {},
     "output_type": "execute_result"
    }
   ],
   "source": [
    "data_combo.head(5)"
   ]
  },
  {
   "cell_type": "code",
   "execution_count": 81,
   "metadata": {},
   "outputs": [],
   "source": [
    "id_author = dict(zip(data_combo['id'], data_combo['author']))\n",
    "id_parent = dict(zip(data_combo['id'], data_combo['parent_id']))"
   ]
  },
  {
   "cell_type": "code",
   "execution_count": 82,
   "metadata": {},
   "outputs": [],
   "source": [
    "ids = data_combo['id'].to_list()"
   ]
  },
  {
   "cell_type": "code",
   "execution_count": 83,
   "metadata": {},
   "outputs": [],
   "source": [
    "# who replies to whom?\n",
    "final_data = {'src':[], 'target':[]}\n",
    "for i in ids:\n",
    "    cur_parent = id_parent[i]\n",
    "    cur_auth = id_author[i]\n",
    "    if cur_parent != 'Null' and cur_parent in id_author.keys(): # if any rows are dropped their children are also dropped\n",
    "        final_data['src'].append(cur_auth)\n",
    "        parent_author = id_author[cur_parent]\n",
    "        final_data['target'].append(parent_author)"
   ]
  },
  {
   "cell_type": "code",
   "execution_count": 84,
   "metadata": {},
   "outputs": [],
   "source": [
    "final_data = pd.DataFrame(final_data)"
   ]
  },
  {
   "cell_type": "code",
   "execution_count": 85,
   "metadata": {},
   "outputs": [
    {
     "data": {
      "text/html": [
       "<div>\n",
       "<style scoped>\n",
       "    .dataframe tbody tr th:only-of-type {\n",
       "        vertical-align: middle;\n",
       "    }\n",
       "\n",
       "    .dataframe tbody tr th {\n",
       "        vertical-align: top;\n",
       "    }\n",
       "\n",
       "    .dataframe thead th {\n",
       "        text-align: right;\n",
       "    }\n",
       "</style>\n",
       "<table border=\"1\" class=\"dataframe\">\n",
       "  <thead>\n",
       "    <tr style=\"text-align: right;\">\n",
       "      <th></th>\n",
       "      <th>src</th>\n",
       "      <th>target</th>\n",
       "    </tr>\n",
       "  </thead>\n",
       "  <tbody>\n",
       "    <tr>\n",
       "      <th>0</th>\n",
       "      <td>ayyyyy</td>\n",
       "      <td>The_Sacred_Cow</td>\n",
       "    </tr>\n",
       "    <tr>\n",
       "      <th>1</th>\n",
       "      <td>housebabyy</td>\n",
       "      <td>The_Sacred_Cow</td>\n",
       "    </tr>\n",
       "    <tr>\n",
       "      <th>2</th>\n",
       "      <td>weather_babe</td>\n",
       "      <td>The_Sacred_Cow</td>\n",
       "    </tr>\n",
       "    <tr>\n",
       "      <th>3</th>\n",
       "      <td>sarchiapone666</td>\n",
       "      <td>housebabyy</td>\n",
       "    </tr>\n",
       "    <tr>\n",
       "      <th>4</th>\n",
       "      <td>timmyotc</td>\n",
       "      <td>sarchiapone666</td>\n",
       "    </tr>\n",
       "    <tr>\n",
       "      <th>5</th>\n",
       "      <td>housebabyy</td>\n",
       "      <td>sarchiapone666</td>\n",
       "    </tr>\n",
       "    <tr>\n",
       "      <th>6</th>\n",
       "      <td>housebabyy</td>\n",
       "      <td>sarchiapone666</td>\n",
       "    </tr>\n",
       "    <tr>\n",
       "      <th>7</th>\n",
       "      <td>sarchiapone666</td>\n",
       "      <td>housebabyy</td>\n",
       "    </tr>\n",
       "    <tr>\n",
       "      <th>8</th>\n",
       "      <td>housebabyy</td>\n",
       "      <td>sarchiapone666</td>\n",
       "    </tr>\n",
       "    <tr>\n",
       "      <th>9</th>\n",
       "      <td>sarchiapone666</td>\n",
       "      <td>housebabyy</td>\n",
       "    </tr>\n",
       "    <tr>\n",
       "      <th>10</th>\n",
       "      <td>JamesQuarant</td>\n",
       "      <td>Flatts_the_Flounder</td>\n",
       "    </tr>\n",
       "    <tr>\n",
       "      <th>11</th>\n",
       "      <td>NewChameleon</td>\n",
       "      <td>Flatts_the_Flounder</td>\n",
       "    </tr>\n",
       "    <tr>\n",
       "      <th>12</th>\n",
       "      <td>ccricers</td>\n",
       "      <td>NewChameleon</td>\n",
       "    </tr>\n",
       "    <tr>\n",
       "      <th>13</th>\n",
       "      <td>NewChameleon</td>\n",
       "      <td>ccricers</td>\n",
       "    </tr>\n",
       "    <tr>\n",
       "      <th>14</th>\n",
       "      <td>ccricers</td>\n",
       "      <td>NewChameleon</td>\n",
       "    </tr>\n",
       "    <tr>\n",
       "      <th>15</th>\n",
       "      <td>lightcloud5</td>\n",
       "      <td>Flatts_the_Flounder</td>\n",
       "    </tr>\n",
       "    <tr>\n",
       "      <th>16</th>\n",
       "      <td>NewChameleon</td>\n",
       "      <td>ccricers</td>\n",
       "    </tr>\n",
       "    <tr>\n",
       "      <th>17</th>\n",
       "      <td>jimbo831</td>\n",
       "      <td>ccricers</td>\n",
       "    </tr>\n",
       "    <tr>\n",
       "      <th>18</th>\n",
       "      <td>housebabyy</td>\n",
       "      <td>toran37</td>\n",
       "    </tr>\n",
       "    <tr>\n",
       "      <th>19</th>\n",
       "      <td>facetrolled</td>\n",
       "      <td>toran37</td>\n",
       "    </tr>\n",
       "  </tbody>\n",
       "</table>\n",
       "</div>"
      ],
      "text/plain": [
       "               src               target\n",
       "0           ayyyyy       The_Sacred_Cow\n",
       "1       housebabyy       The_Sacred_Cow\n",
       "2     weather_babe       The_Sacred_Cow\n",
       "3   sarchiapone666           housebabyy\n",
       "4         timmyotc       sarchiapone666\n",
       "5       housebabyy       sarchiapone666\n",
       "6       housebabyy       sarchiapone666\n",
       "7   sarchiapone666           housebabyy\n",
       "8       housebabyy       sarchiapone666\n",
       "9   sarchiapone666           housebabyy\n",
       "10    JamesQuarant  Flatts_the_Flounder\n",
       "11    NewChameleon  Flatts_the_Flounder\n",
       "12        ccricers         NewChameleon\n",
       "13    NewChameleon             ccricers\n",
       "14        ccricers         NewChameleon\n",
       "15     lightcloud5  Flatts_the_Flounder\n",
       "16    NewChameleon             ccricers\n",
       "17        jimbo831             ccricers\n",
       "18      housebabyy              toran37\n",
       "19     facetrolled              toran37"
      ]
     },
     "execution_count": 85,
     "metadata": {},
     "output_type": "execute_result"
    }
   ],
   "source": [
    "final_data.head(20)"
   ]
  },
  {
   "cell_type": "code",
   "execution_count": 86,
   "metadata": {},
   "outputs": [
    {
     "data": {
      "text/plain": [
       "(311875, 2)"
      ]
     },
     "execution_count": 86,
     "metadata": {},
     "output_type": "execute_result"
    }
   ],
   "source": [
    "final_data.shape"
   ]
  },
  {
   "cell_type": "code",
   "execution_count": 87,
   "metadata": {},
   "outputs": [],
   "source": [
    "#remove self loops\n",
    "final_data = final_data[final_data['src']!=final_data['target']]"
   ]
  },
  {
   "cell_type": "code",
   "execution_count": 88,
   "metadata": {},
   "outputs": [],
   "source": [
    "final_data['weight'] = 1"
   ]
  },
  {
   "cell_type": "code",
   "execution_count": 89,
   "metadata": {},
   "outputs": [
    {
     "data": {
      "text/html": [
       "<div>\n",
       "<style scoped>\n",
       "    .dataframe tbody tr th:only-of-type {\n",
       "        vertical-align: middle;\n",
       "    }\n",
       "\n",
       "    .dataframe tbody tr th {\n",
       "        vertical-align: top;\n",
       "    }\n",
       "\n",
       "    .dataframe thead th {\n",
       "        text-align: right;\n",
       "    }\n",
       "</style>\n",
       "<table border=\"1\" class=\"dataframe\">\n",
       "  <thead>\n",
       "    <tr style=\"text-align: right;\">\n",
       "      <th></th>\n",
       "      <th>src</th>\n",
       "      <th>target</th>\n",
       "      <th>weight</th>\n",
       "    </tr>\n",
       "  </thead>\n",
       "  <tbody>\n",
       "    <tr>\n",
       "      <th>0</th>\n",
       "      <td>ayyyyy</td>\n",
       "      <td>The_Sacred_Cow</td>\n",
       "      <td>1</td>\n",
       "    </tr>\n",
       "    <tr>\n",
       "      <th>1</th>\n",
       "      <td>housebabyy</td>\n",
       "      <td>The_Sacred_Cow</td>\n",
       "      <td>1</td>\n",
       "    </tr>\n",
       "    <tr>\n",
       "      <th>2</th>\n",
       "      <td>weather_babe</td>\n",
       "      <td>The_Sacred_Cow</td>\n",
       "      <td>1</td>\n",
       "    </tr>\n",
       "    <tr>\n",
       "      <th>3</th>\n",
       "      <td>sarchiapone666</td>\n",
       "      <td>housebabyy</td>\n",
       "      <td>1</td>\n",
       "    </tr>\n",
       "    <tr>\n",
       "      <th>4</th>\n",
       "      <td>timmyotc</td>\n",
       "      <td>sarchiapone666</td>\n",
       "      <td>1</td>\n",
       "    </tr>\n",
       "    <tr>\n",
       "      <th>5</th>\n",
       "      <td>housebabyy</td>\n",
       "      <td>sarchiapone666</td>\n",
       "      <td>1</td>\n",
       "    </tr>\n",
       "    <tr>\n",
       "      <th>6</th>\n",
       "      <td>housebabyy</td>\n",
       "      <td>sarchiapone666</td>\n",
       "      <td>1</td>\n",
       "    </tr>\n",
       "    <tr>\n",
       "      <th>7</th>\n",
       "      <td>sarchiapone666</td>\n",
       "      <td>housebabyy</td>\n",
       "      <td>1</td>\n",
       "    </tr>\n",
       "    <tr>\n",
       "      <th>8</th>\n",
       "      <td>housebabyy</td>\n",
       "      <td>sarchiapone666</td>\n",
       "      <td>1</td>\n",
       "    </tr>\n",
       "    <tr>\n",
       "      <th>9</th>\n",
       "      <td>sarchiapone666</td>\n",
       "      <td>housebabyy</td>\n",
       "      <td>1</td>\n",
       "    </tr>\n",
       "  </tbody>\n",
       "</table>\n",
       "</div>"
      ],
      "text/plain": [
       "              src          target  weight\n",
       "0          ayyyyy  The_Sacred_Cow       1\n",
       "1      housebabyy  The_Sacred_Cow       1\n",
       "2    weather_babe  The_Sacred_Cow       1\n",
       "3  sarchiapone666      housebabyy       1\n",
       "4        timmyotc  sarchiapone666       1\n",
       "5      housebabyy  sarchiapone666       1\n",
       "6      housebabyy  sarchiapone666       1\n",
       "7  sarchiapone666      housebabyy       1\n",
       "8      housebabyy  sarchiapone666       1\n",
       "9  sarchiapone666      housebabyy       1"
      ]
     },
     "execution_count": 89,
     "metadata": {},
     "output_type": "execute_result"
    }
   ],
   "source": [
    "final_data.head(10)"
   ]
  },
  {
   "cell_type": "code",
   "execution_count": 90,
   "metadata": {},
   "outputs": [],
   "source": [
    "final_map = final_data.groupby(['src', 'target']).sum().reset_index()"
   ]
  },
  {
   "cell_type": "code",
   "execution_count": 91,
   "metadata": {},
   "outputs": [
    {
     "data": {
      "text/plain": [
       "(262740, 3)"
      ]
     },
     "execution_count": 91,
     "metadata": {},
     "output_type": "execute_result"
    }
   ],
   "source": [
    "final_map.shape"
   ]
  },
  {
   "cell_type": "code",
   "execution_count": 92,
   "metadata": {},
   "outputs": [],
   "source": [
    "final_map = final_map.sort_values(by=['weight'])"
   ]
  },
  {
   "cell_type": "code",
   "execution_count": 93,
   "metadata": {},
   "outputs": [
    {
     "data": {
      "text/html": [
       "<div>\n",
       "<style scoped>\n",
       "    .dataframe tbody tr th:only-of-type {\n",
       "        vertical-align: middle;\n",
       "    }\n",
       "\n",
       "    .dataframe tbody tr th {\n",
       "        vertical-align: top;\n",
       "    }\n",
       "\n",
       "    .dataframe thead th {\n",
       "        text-align: right;\n",
       "    }\n",
       "</style>\n",
       "<table border=\"1\" class=\"dataframe\">\n",
       "  <thead>\n",
       "    <tr style=\"text-align: right;\">\n",
       "      <th></th>\n",
       "      <th>src</th>\n",
       "      <th>target</th>\n",
       "      <th>weight</th>\n",
       "    </tr>\n",
       "  </thead>\n",
       "  <tbody>\n",
       "    <tr>\n",
       "      <th>106753</th>\n",
       "      <td>TwoDoorSedan</td>\n",
       "      <td>TheDiscoJew</td>\n",
       "      <td>2</td>\n",
       "    </tr>\n",
       "    <tr>\n",
       "      <th>140684</th>\n",
       "      <td>codex561</td>\n",
       "      <td>Himekat</td>\n",
       "      <td>2</td>\n",
       "    </tr>\n",
       "    <tr>\n",
       "      <th>239233</th>\n",
       "      <td>terjon</td>\n",
       "      <td>flotation</td>\n",
       "      <td>2</td>\n",
       "    </tr>\n",
       "    <tr>\n",
       "      <th>21142</th>\n",
       "      <td>ConfoundingChaos</td>\n",
       "      <td>SugarAndSodaDiet</td>\n",
       "      <td>2</td>\n",
       "    </tr>\n",
       "    <tr>\n",
       "      <th>107438</th>\n",
       "      <td>UnexpectedWilde</td>\n",
       "      <td>_Atomfinger_</td>\n",
       "      <td>2</td>\n",
       "    </tr>\n",
       "    <tr>\n",
       "      <th>240192</th>\n",
       "      <td>that_routine</td>\n",
       "      <td>xxbcbud420xx</td>\n",
       "      <td>2</td>\n",
       "    </tr>\n",
       "    <tr>\n",
       "      <th>20950</th>\n",
       "      <td>ComputerBunnyMath123</td>\n",
       "      <td>SerendipityNinetyOne</td>\n",
       "      <td>2</td>\n",
       "    </tr>\n",
       "    <tr>\n",
       "      <th>239617</th>\n",
       "      <td>termd</td>\n",
       "      <td>spectacularkay</td>\n",
       "      <td>2</td>\n",
       "    </tr>\n",
       "    <tr>\n",
       "      <th>19239</th>\n",
       "      <td>ChooseMars</td>\n",
       "      <td>Yosaerys</td>\n",
       "      <td>2</td>\n",
       "    </tr>\n",
       "    <tr>\n",
       "      <th>140350</th>\n",
       "      <td>coder155ml</td>\n",
       "      <td>Nintendo_Chemistry</td>\n",
       "      <td>2</td>\n",
       "    </tr>\n",
       "    <tr>\n",
       "      <th>240388</th>\n",
       "      <td>thatzacdavis</td>\n",
       "      <td>AcceptableUsername_</td>\n",
       "      <td>2</td>\n",
       "    </tr>\n",
       "    <tr>\n",
       "      <th>19232</th>\n",
       "      <td>ChooseMars</td>\n",
       "      <td>Throwaway4philly1</td>\n",
       "      <td>2</td>\n",
       "    </tr>\n",
       "    <tr>\n",
       "      <th>141783</th>\n",
       "      <td>constructivCritic</td>\n",
       "      <td>MW_Daught</td>\n",
       "      <td>2</td>\n",
       "    </tr>\n",
       "    <tr>\n",
       "      <th>20044</th>\n",
       "      <td>CodeIt</td>\n",
       "      <td>Northanui</td>\n",
       "      <td>2</td>\n",
       "    </tr>\n",
       "    <tr>\n",
       "      <th>140361</th>\n",
       "      <td>coder155ml</td>\n",
       "      <td>OnlyOneMember</td>\n",
       "      <td>2</td>\n",
       "    </tr>\n",
       "    <tr>\n",
       "      <th>106770</th>\n",
       "      <td>Twocurvedhollowfangs</td>\n",
       "      <td>MatCreatesStuff</td>\n",
       "      <td>2</td>\n",
       "    </tr>\n",
       "    <tr>\n",
       "      <th>106279</th>\n",
       "      <td>Triumphxd</td>\n",
       "      <td>Xi_32</td>\n",
       "      <td>2</td>\n",
       "    </tr>\n",
       "    <tr>\n",
       "      <th>20552</th>\n",
       "      <td>ComebacKids</td>\n",
       "      <td>BarfHurricane</td>\n",
       "      <td>2</td>\n",
       "    </tr>\n",
       "    <tr>\n",
       "      <th>107571</th>\n",
       "      <td>Unlikely-Passion-594</td>\n",
       "      <td>Bazinga_666</td>\n",
       "      <td>2</td>\n",
       "    </tr>\n",
       "    <tr>\n",
       "      <th>107157</th>\n",
       "      <td>Unchart3disOP</td>\n",
       "      <td>Urthor</td>\n",
       "      <td>2</td>\n",
       "    </tr>\n",
       "    <tr>\n",
       "      <th>141806</th>\n",
       "      <td>contralle</td>\n",
       "      <td>10xAscend</td>\n",
       "      <td>2</td>\n",
       "    </tr>\n",
       "    <tr>\n",
       "      <th>238814</th>\n",
       "      <td>teerre</td>\n",
       "      <td>Intelligent_Mousse_7</td>\n",
       "      <td>2</td>\n",
       "    </tr>\n",
       "    <tr>\n",
       "      <th>20960</th>\n",
       "      <td>ComputerBunnyMath123</td>\n",
       "      <td>Windlas54</td>\n",
       "      <td>2</td>\n",
       "    </tr>\n",
       "    <tr>\n",
       "      <th>240004</th>\n",
       "      <td>thank_you_friendo</td>\n",
       "      <td>nah_im_good_man</td>\n",
       "      <td>2</td>\n",
       "    </tr>\n",
       "    <tr>\n",
       "      <th>107297</th>\n",
       "      <td>UncleMeat11</td>\n",
       "      <td>jadensmithsson</td>\n",
       "      <td>2</td>\n",
       "    </tr>\n",
       "    <tr>\n",
       "      <th>107046</th>\n",
       "      <td>UltimateTacos</td>\n",
       "      <td>SanityInAnarchy</td>\n",
       "      <td>2</td>\n",
       "    </tr>\n",
       "    <tr>\n",
       "      <th>108080</th>\n",
       "      <td>Urthor</td>\n",
       "      <td>reboog711</td>\n",
       "      <td>2</td>\n",
       "    </tr>\n",
       "    <tr>\n",
       "      <th>21275</th>\n",
       "      <td>Conscious_Biscuit</td>\n",
       "      <td>AnthonyMJohnson</td>\n",
       "      <td>2</td>\n",
       "    </tr>\n",
       "    <tr>\n",
       "      <th>141454</th>\n",
       "      <td>computer-engineer</td>\n",
       "      <td>96fauj</td>\n",
       "      <td>2</td>\n",
       "    </tr>\n",
       "    <tr>\n",
       "      <th>140254</th>\n",
       "      <td>coder155ml</td>\n",
       "      <td>AdministrativeVisits</td>\n",
       "      <td>2</td>\n",
       "    </tr>\n",
       "    <tr>\n",
       "      <th>...</th>\n",
       "      <td>...</td>\n",
       "      <td>...</td>\n",
       "      <td>...</td>\n",
       "    </tr>\n",
       "    <tr>\n",
       "      <th>175204</th>\n",
       "      <td>ihatevacations</td>\n",
       "      <td>AutoModerator</td>\n",
       "      <td>18</td>\n",
       "    </tr>\n",
       "    <tr>\n",
       "      <th>197058</th>\n",
       "      <td>metalreflectslime</td>\n",
       "      <td>AutoModerator</td>\n",
       "      <td>18</td>\n",
       "    </tr>\n",
       "    <tr>\n",
       "      <th>27907</th>\n",
       "      <td>Dr_Jabberwock</td>\n",
       "      <td>AutoModerator</td>\n",
       "      <td>19</td>\n",
       "    </tr>\n",
       "    <tr>\n",
       "      <th>95248</th>\n",
       "      <td>Spaceman776</td>\n",
       "      <td>CSCQMods</td>\n",
       "      <td>20</td>\n",
       "    </tr>\n",
       "    <tr>\n",
       "      <th>189970</th>\n",
       "      <td>lgdamefanfanfanfan</td>\n",
       "      <td>AutoModerator</td>\n",
       "      <td>20</td>\n",
       "    </tr>\n",
       "    <tr>\n",
       "      <th>155968</th>\n",
       "      <td>emaG_eh7</td>\n",
       "      <td>CSCQMods</td>\n",
       "      <td>20</td>\n",
       "    </tr>\n",
       "    <tr>\n",
       "      <th>206734</th>\n",
       "      <td>null587</td>\n",
       "      <td>AutoModerator</td>\n",
       "      <td>20</td>\n",
       "    </tr>\n",
       "    <tr>\n",
       "      <th>212723</th>\n",
       "      <td>pipes_and_bottles</td>\n",
       "      <td>AutoModerator</td>\n",
       "      <td>21</td>\n",
       "    </tr>\n",
       "    <tr>\n",
       "      <th>238471</th>\n",
       "      <td>teardrop503</td>\n",
       "      <td>AutoModerator</td>\n",
       "      <td>22</td>\n",
       "    </tr>\n",
       "    <tr>\n",
       "      <th>59820</th>\n",
       "      <td>MarcableFluke</td>\n",
       "      <td>Greenface1998</td>\n",
       "      <td>22</td>\n",
       "    </tr>\n",
       "    <tr>\n",
       "      <th>62719</th>\n",
       "      <td>Mcnst</td>\n",
       "      <td>AutoModerator</td>\n",
       "      <td>23</td>\n",
       "    </tr>\n",
       "    <tr>\n",
       "      <th>185188</th>\n",
       "      <td>kautica0</td>\n",
       "      <td>AutoModerator</td>\n",
       "      <td>23</td>\n",
       "    </tr>\n",
       "    <tr>\n",
       "      <th>243493</th>\n",
       "      <td>thisabadusername</td>\n",
       "      <td>AutoModerator</td>\n",
       "      <td>23</td>\n",
       "    </tr>\n",
       "    <tr>\n",
       "      <th>4778</th>\n",
       "      <td>Aazadan</td>\n",
       "      <td>OldNewbProg</td>\n",
       "      <td>24</td>\n",
       "    </tr>\n",
       "    <tr>\n",
       "      <th>74750</th>\n",
       "      <td>PMmeDragonGirlPics</td>\n",
       "      <td>CSCQMods</td>\n",
       "      <td>24</td>\n",
       "    </tr>\n",
       "    <tr>\n",
       "      <th>33460</th>\n",
       "      <td>FairlyOddParents</td>\n",
       "      <td>AutoModerator</td>\n",
       "      <td>26</td>\n",
       "    </tr>\n",
       "    <tr>\n",
       "      <th>13702</th>\n",
       "      <td>BigMoneyYolo</td>\n",
       "      <td>AutoModerator</td>\n",
       "      <td>27</td>\n",
       "    </tr>\n",
       "    <tr>\n",
       "      <th>78215</th>\n",
       "      <td>Pokemon_Master_01</td>\n",
       "      <td>AutoModerator</td>\n",
       "      <td>27</td>\n",
       "    </tr>\n",
       "    <tr>\n",
       "      <th>137917</th>\n",
       "      <td>cheeky861</td>\n",
       "      <td>AutoModerator</td>\n",
       "      <td>30</td>\n",
       "    </tr>\n",
       "    <tr>\n",
       "      <th>26563</th>\n",
       "      <td>DiceKnight</td>\n",
       "      <td>AutoModerator</td>\n",
       "      <td>30</td>\n",
       "    </tr>\n",
       "    <tr>\n",
       "      <th>218005</th>\n",
       "      <td>randArrowFunc</td>\n",
       "      <td>AutoModerator</td>\n",
       "      <td>31</td>\n",
       "    </tr>\n",
       "    <tr>\n",
       "      <th>72141</th>\n",
       "      <td>OldNewbProg</td>\n",
       "      <td>Aazadan</td>\n",
       "      <td>31</td>\n",
       "    </tr>\n",
       "    <tr>\n",
       "      <th>14176</th>\n",
       "      <td>BlankName49</td>\n",
       "      <td>AutoModerator</td>\n",
       "      <td>33</td>\n",
       "    </tr>\n",
       "    <tr>\n",
       "      <th>237150</th>\n",
       "      <td>switchitup_lets</td>\n",
       "      <td>AutoModerator</td>\n",
       "      <td>34</td>\n",
       "    </tr>\n",
       "    <tr>\n",
       "      <th>185190</th>\n",
       "      <td>kautica0</td>\n",
       "      <td>CSCQMods</td>\n",
       "      <td>36</td>\n",
       "    </tr>\n",
       "    <tr>\n",
       "      <th>145155</th>\n",
       "      <td>cstransfer</td>\n",
       "      <td>AutoModerator</td>\n",
       "      <td>36</td>\n",
       "    </tr>\n",
       "    <tr>\n",
       "      <th>72143</th>\n",
       "      <td>OldNewbProg</td>\n",
       "      <td>AutoModerator</td>\n",
       "      <td>42</td>\n",
       "    </tr>\n",
       "    <tr>\n",
       "      <th>30709</th>\n",
       "      <td>EnderMB</td>\n",
       "      <td>AutoModerator</td>\n",
       "      <td>95</td>\n",
       "    </tr>\n",
       "    <tr>\n",
       "      <th>9874</th>\n",
       "      <td>AutoModerator</td>\n",
       "      <td>CSCQMods</td>\n",
       "      <td>277</td>\n",
       "    </tr>\n",
       "    <tr>\n",
       "      <th>10294</th>\n",
       "      <td>AutoModerator</td>\n",
       "      <td>[deleted]</td>\n",
       "      <td>342</td>\n",
       "    </tr>\n",
       "  </tbody>\n",
       "</table>\n",
       "<p>31942 rows × 3 columns</p>\n",
       "</div>"
      ],
      "text/plain": [
       "                         src                target  weight\n",
       "106753          TwoDoorSedan           TheDiscoJew       2\n",
       "140684              codex561               Himekat       2\n",
       "239233                terjon             flotation       2\n",
       "21142       ConfoundingChaos      SugarAndSodaDiet       2\n",
       "107438       UnexpectedWilde          _Atomfinger_       2\n",
       "240192          that_routine          xxbcbud420xx       2\n",
       "20950   ComputerBunnyMath123  SerendipityNinetyOne       2\n",
       "239617                 termd        spectacularkay       2\n",
       "19239             ChooseMars              Yosaerys       2\n",
       "140350            coder155ml    Nintendo_Chemistry       2\n",
       "240388          thatzacdavis   AcceptableUsername_       2\n",
       "19232             ChooseMars     Throwaway4philly1       2\n",
       "141783     constructivCritic             MW_Daught       2\n",
       "20044                 CodeIt             Northanui       2\n",
       "140361            coder155ml         OnlyOneMember       2\n",
       "106770  Twocurvedhollowfangs       MatCreatesStuff       2\n",
       "106279             Triumphxd                 Xi_32       2\n",
       "20552            ComebacKids         BarfHurricane       2\n",
       "107571  Unlikely-Passion-594           Bazinga_666       2\n",
       "107157         Unchart3disOP                Urthor       2\n",
       "141806             contralle             10xAscend       2\n",
       "238814                teerre  Intelligent_Mousse_7       2\n",
       "20960   ComputerBunnyMath123             Windlas54       2\n",
       "240004     thank_you_friendo       nah_im_good_man       2\n",
       "107297           UncleMeat11        jadensmithsson       2\n",
       "107046         UltimateTacos       SanityInAnarchy       2\n",
       "108080                Urthor             reboog711       2\n",
       "21275      Conscious_Biscuit       AnthonyMJohnson       2\n",
       "141454     computer-engineer                96fauj       2\n",
       "140254            coder155ml  AdministrativeVisits       2\n",
       "...                      ...                   ...     ...\n",
       "175204        ihatevacations         AutoModerator      18\n",
       "197058     metalreflectslime         AutoModerator      18\n",
       "27907          Dr_Jabberwock         AutoModerator      19\n",
       "95248            Spaceman776              CSCQMods      20\n",
       "189970    lgdamefanfanfanfan         AutoModerator      20\n",
       "155968              emaG_eh7              CSCQMods      20\n",
       "206734               null587         AutoModerator      20\n",
       "212723     pipes_and_bottles         AutoModerator      21\n",
       "238471           teardrop503         AutoModerator      22\n",
       "59820          MarcableFluke         Greenface1998      22\n",
       "62719                  Mcnst         AutoModerator      23\n",
       "185188              kautica0         AutoModerator      23\n",
       "243493      thisabadusername         AutoModerator      23\n",
       "4778                 Aazadan           OldNewbProg      24\n",
       "74750     PMmeDragonGirlPics              CSCQMods      24\n",
       "33460       FairlyOddParents         AutoModerator      26\n",
       "13702           BigMoneyYolo         AutoModerator      27\n",
       "78215      Pokemon_Master_01         AutoModerator      27\n",
       "137917             cheeky861         AutoModerator      30\n",
       "26563             DiceKnight         AutoModerator      30\n",
       "218005         randArrowFunc         AutoModerator      31\n",
       "72141            OldNewbProg               Aazadan      31\n",
       "14176            BlankName49         AutoModerator      33\n",
       "237150       switchitup_lets         AutoModerator      34\n",
       "185190              kautica0              CSCQMods      36\n",
       "145155            cstransfer         AutoModerator      36\n",
       "72143            OldNewbProg         AutoModerator      42\n",
       "30709                EnderMB         AutoModerator      95\n",
       "9874           AutoModerator              CSCQMods     277\n",
       "10294          AutoModerator             [deleted]     342\n",
       "\n",
       "[31942 rows x 3 columns]"
      ]
     },
     "execution_count": 93,
     "metadata": {},
     "output_type": "execute_result"
    }
   ],
   "source": [
    "final_map[final_map['weight']>=2]"
   ]
  },
  {
   "cell_type": "code",
   "execution_count": 94,
   "metadata": {},
   "outputs": [],
   "source": [
    "final_map = final_map[final_map['src']!=final_map['target']]"
   ]
  },
  {
   "cell_type": "code",
   "execution_count": 95,
   "metadata": {},
   "outputs": [],
   "source": [
    "final_map['weight'] = final_map['weight'] /final_map['weight'].abs().max()"
   ]
  },
  {
   "cell_type": "code",
   "execution_count": 96,
   "metadata": {},
   "outputs": [
    {
     "data": {
      "text/plain": [
       "(262740, 3)"
      ]
     },
     "execution_count": 96,
     "metadata": {},
     "output_type": "execute_result"
    }
   ],
   "source": [
    "final_map.shape"
   ]
  },
  {
   "cell_type": "code",
   "execution_count": 97,
   "metadata": {},
   "outputs": [
    {
     "data": {
      "text/html": [
       "<div>\n",
       "<style scoped>\n",
       "    .dataframe tbody tr th:only-of-type {\n",
       "        vertical-align: middle;\n",
       "    }\n",
       "\n",
       "    .dataframe tbody tr th {\n",
       "        vertical-align: top;\n",
       "    }\n",
       "\n",
       "    .dataframe thead th {\n",
       "        text-align: right;\n",
       "    }\n",
       "</style>\n",
       "<table border=\"1\" class=\"dataframe\">\n",
       "  <thead>\n",
       "    <tr style=\"text-align: right;\">\n",
       "      <th></th>\n",
       "      <th>src</th>\n",
       "      <th>target</th>\n",
       "      <th>weight</th>\n",
       "    </tr>\n",
       "  </thead>\n",
       "  <tbody>\n",
       "    <tr>\n",
       "      <th>0</th>\n",
       "      <td>-------hi-------</td>\n",
       "      <td>DragonCode2020</td>\n",
       "      <td>0.002924</td>\n",
       "    </tr>\n",
       "    <tr>\n",
       "      <th>169679</th>\n",
       "      <td>hereforthedoggo</td>\n",
       "      <td>macguggins254</td>\n",
       "      <td>0.002924</td>\n",
       "    </tr>\n",
       "    <tr>\n",
       "      <th>169680</th>\n",
       "      <td>hereforthedoggo</td>\n",
       "      <td>pmmeyourpuzzlespls</td>\n",
       "      <td>0.002924</td>\n",
       "    </tr>\n",
       "    <tr>\n",
       "      <th>169681</th>\n",
       "      <td>hereforthedoggo</td>\n",
       "      <td>sidd_oo</td>\n",
       "      <td>0.002924</td>\n",
       "    </tr>\n",
       "    <tr>\n",
       "      <th>169682</th>\n",
       "      <td>heres-the-reference</td>\n",
       "      <td>BackgroundChar</td>\n",
       "      <td>0.002924</td>\n",
       "    </tr>\n",
       "  </tbody>\n",
       "</table>\n",
       "</div>"
      ],
      "text/plain": [
       "                        src              target    weight\n",
       "0          -------hi-------      DragonCode2020  0.002924\n",
       "169679      hereforthedoggo       macguggins254  0.002924\n",
       "169680      hereforthedoggo  pmmeyourpuzzlespls  0.002924\n",
       "169681      hereforthedoggo             sidd_oo  0.002924\n",
       "169682  heres-the-reference      BackgroundChar  0.002924"
      ]
     },
     "execution_count": 97,
     "metadata": {},
     "output_type": "execute_result"
    }
   ],
   "source": [
    "final_map.head()"
   ]
  },
  {
   "cell_type": "code",
   "execution_count": 98,
   "metadata": {},
   "outputs": [],
   "source": [
    "final_map.to_csv(\"csc_2018_2021_halfsns.csv\")"
   ]
  },
  {
   "cell_type": "code",
   "execution_count": 155,
   "metadata": {},
   "outputs": [],
   "source": [
    "import networkx as nx"
   ]
  },
  {
   "cell_type": "code",
   "execution_count": 156,
   "metadata": {},
   "outputs": [],
   "source": [
    "ggw_nx=nx.DiGraph()"
   ]
  },
  {
   "cell_type": "code",
   "execution_count": 157,
   "metadata": {},
   "outputs": [],
   "source": [
    "tupl = [tuple(r) for r in final_map.to_numpy().tolist()]"
   ]
  },
  {
   "cell_type": "code",
   "execution_count": 158,
   "metadata": {},
   "outputs": [],
   "source": [
    "ggw_nx.add_weighted_edges_from(tupl)"
   ]
  },
  {
   "cell_type": "code",
   "execution_count": 159,
   "metadata": {},
   "outputs": [],
   "source": [
    "import matplotlib.pyplot as plt"
   ]
  },
  {
   "cell_type": "code",
   "execution_count": 160,
   "metadata": {},
   "outputs": [
    {
     "name": "stderr",
     "output_type": "stream",
     "text": [
      "C:\\Users\\Sree\\Anaconda3\\lib\\site-packages\\networkx\\drawing\\nx_pylab.py:579: MatplotlibDeprecationWarning: \n",
      "The iterable function was deprecated in Matplotlib 3.1 and will be removed in 3.3. Use np.iterable instead.\n",
      "  if not cb.iterable(width):\n",
      "C:\\Users\\Sree\\Anaconda3\\lib\\site-packages\\networkx\\drawing\\nx_pylab.py:676: MatplotlibDeprecationWarning: \n",
      "The iterable function was deprecated in Matplotlib 3.1 and will be removed in 3.3. Use np.iterable instead.\n",
      "  if cb.iterable(node_size):  # many node sizes\n"
     ]
    },
    {
     "data": {
      "image/png": "[encoded data removed]",
      "text/plain": [
       "<Figure size 432x288 with 1 Axes>"
      ]
     },
     "metadata": {},
     "output_type": "display_data"
    }
   ],
   "source": [
    "nx.draw_spring(ggw_nx, with_labels = False)"
   ]
  },
  {
   "cell_type": "code",
   "execution_count": 99,
   "metadata": {},
   "outputs": [
    {
     "data": {
      "text/plain": [
       "(392287, 7)"
      ]
     },
     "execution_count": 99,
     "metadata": {},
     "output_type": "execute_result"
    }
   ],
   "source": [
    "data_combo.shape"
   ]
  },
  {
   "cell_type": "code",
   "execution_count": 100,
   "metadata": {},
   "outputs": [],
   "source": [
    "data_combo.to_csv(\"csc_final.csv\")"
   ]
  }
 ],
 "metadata": {
  "kernelspec": {
   "display_name": "Python 3",
   "language": "python",
   "name": "python3"
  },
  "language_info": {
   "codemirror_mode": {
    "name": "ipython",
    "version": 3
   },
   "file_extension": ".py",
   "mimetype": "text/x-python",
   "name": "python",
   "nbconvert_exporter": "python",
   "pygments_lexer": "ipython3",
   "version": "3.7.3"
  }
 },
 "nbformat": 4,
 "nbformat_minor": 2
}
