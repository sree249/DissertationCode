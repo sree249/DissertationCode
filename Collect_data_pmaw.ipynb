{
 "cells": [
  {
   "cell_type": "code",
   "execution_count": 2,
   "id": "be273ba9",
   "metadata": {},
   "outputs": [],
   "source": [
    "#imports!\n",
    "import datetime as dt\n",
    "from pmaw import PushshiftAPI\n",
    "import pandas as pd"
   ]
  },
  {
   "cell_type": "code",
   "execution_count": 21,
   "id": "c0bac1a7",
   "metadata": {},
   "outputs": [
    {
     "name": "stdout",
     "output_type": "stream",
     "text": [
      "1357016400 1672549200\n"
     ]
    }
   ],
   "source": [
    "#epoch time objects\n",
    "start_time = int(dt.datetime(2013, 1, 1).timestamp())\n",
    "end_time = int(dt.datetime(2023, 1, 1).timestamp())\n",
    "print(start_time, end_time)"
   ]
  },
  {
   "cell_type": "code",
   "execution_count": 22,
   "id": "23daa197",
   "metadata": {},
   "outputs": [],
   "source": [
    "#instantiate the pushshift wrapper\n",
    "api = PushshiftAPI()\n",
    "posts = api.search_submissions(subreddit=\"aiethics\",  since = start_time, until=end_time, safe_exit=True)"
   ]
  },
  {
   "cell_type": "code",
   "execution_count": 23,
   "id": "e89d05da",
   "metadata": {},
   "outputs": [
    {
     "data": {
      "text/plain": [
       "517"
      ]
     },
     "execution_count": 23,
     "metadata": {},
     "output_type": "execute_result"
    }
   ],
   "source": [
    "len(posts)"
   ]
  },
  {
   "cell_type": "code",
   "execution_count": 24,
   "id": "a121534d",
   "metadata": {},
   "outputs": [],
   "source": [
    "res = [r for r in posts]"
   ]
  },
  {
   "cell_type": "code",
   "execution_count": 25,
   "id": "0275958e",
   "metadata": {},
   "outputs": [],
   "source": [
    "fin_data = pd.json_normalize(res)"
   ]
  },
  {
   "cell_type": "code",
   "execution_count": 26,
   "id": "d115c932",
   "metadata": {},
   "outputs": [],
   "source": [
    "fin_data = fin_data[['author', 'created_utc', 'id', 'url', 'title', 'selftext', 'score', 'num_comments']]"
   ]
  },
  {
   "cell_type": "code",
   "execution_count": 27,
   "id": "9156532e",
   "metadata": {},
   "outputs": [
    {
     "data": {
      "text/plain": [
       "(517, 8)"
      ]
     },
     "execution_count": 27,
     "metadata": {},
     "output_type": "execute_result"
    }
   ],
   "source": [
    "fin_data.shape"
   ]
  },
  {
   "cell_type": "code",
   "execution_count": 28,
   "id": "166ee560",
   "metadata": {},
   "outputs": [],
   "source": [
    "fin_data = fin_data[~(fin_data['selftext'] == '[deleted]') & ~(fin_data['selftext'] == '[removed]') & ~(fin_data['selftext'] == '') & ~(fin_data['author'] == '[deleted]')] "
   ]
  },
  {
   "cell_type": "code",
   "execution_count": 29,
   "id": "0ba95d77",
   "metadata": {},
   "outputs": [
    {
     "data": {
      "text/plain": [
       "(94, 8)"
      ]
     },
     "execution_count": 29,
     "metadata": {},
     "output_type": "execute_result"
    }
   ],
   "source": [
    "fin_data.shape"
   ]
  },
  {
   "cell_type": "code",
   "execution_count": 17,
   "id": "0951f1bf",
   "metadata": {},
   "outputs": [],
   "source": [
    "fin_data = fin_data.dropna(subset=['selftext'])"
   ]
  },
  {
   "cell_type": "code",
   "execution_count": 18,
   "id": "9d0d15f1",
   "metadata": {},
   "outputs": [
    {
     "data": {
      "text/plain": [
       "(240, 8)"
      ]
     },
     "execution_count": 18,
     "metadata": {},
     "output_type": "execute_result"
    }
   ],
   "source": [
    "fin_data.shape"
   ]
  },
  {
   "cell_type": "code",
   "execution_count": 30,
   "id": "91f5ab38",
   "metadata": {},
   "outputs": [],
   "source": [
    "fin_data.to_csv(\"aiethics_data_pmaw_posts_cleaned.csv\")"
   ]
  },
  {
   "cell_type": "markdown",
   "id": "3e2d8a08",
   "metadata": {},
   "source": [
    "# in this part we will collect all the column data"
   ]
  },
  {
   "cell_type": "code",
   "execution_count": 31,
   "id": "ba90c1e4",
   "metadata": {},
   "outputs": [],
   "source": [
    "subreddit_ids = fin_data['id'].to_list()"
   ]
  },
  {
   "cell_type": "code",
   "execution_count": 32,
   "id": "07d8cba1",
   "metadata": {},
   "outputs": [
    {
     "data": {
      "text/plain": [
       "94"
      ]
     },
     "execution_count": 32,
     "metadata": {},
     "output_type": "execute_result"
    }
   ],
   "source": [
    "len(subreddit_ids)"
   ]
  },
  {
   "cell_type": "code",
   "execution_count": 38,
   "id": "751c2038",
   "metadata": {},
   "outputs": [],
   "source": [
    "#authenticate praw to collect comments!\n",
    "import praw\n",
    "import pandas as pd\n",
    "\n",
    "reddit = praw.Reddit(\n",
    "    client_id=\"lr0n5LZ0t2lA_g\",\n",
    "    client_secret=\"zxFWs7TlupQmD9War86reJJXoQs\",\n",
    "    user_agent=\"Mozilla/5.0\",\n",
    "    username=\"sree2016\",\n",
    "    password=\"Tokio_1989\",\n",
    ")\n"
   ]
  },
  {
   "cell_type": "code",
   "execution_count": 39,
   "id": "7ad64393",
   "metadata": {},
   "outputs": [
    {
     "name": "stdout",
     "output_type": "stream",
     "text": [
      "1, Currently accessing comments for 7hft48\n",
      "2, Currently accessing comments for 7em793\n",
      "3, Currently accessing comments for 72iszw\n",
      "4, Currently accessing comments for 7197l1\n",
      "5, Currently accessing comments for 6xg682\n",
      "6, Currently accessing comments for 6wyl36\n",
      "7, Currently accessing comments for 6sq5sf\n",
      "8, Currently accessing comments for 6kg7u9\n",
      "9, Currently accessing comments for 662yix\n",
      "10, Currently accessing comments for aaj367\n",
      "11, Currently accessing comments for a8n2dv\n",
      "12, Currently accessing comments for a4p7eg\n",
      "13, Currently accessing comments for 9sfz6f\n",
      "14, Currently accessing comments for 8w67km\n",
      "15, Currently accessing comments for 8t368d\n",
      "16, Currently accessing comments for 8lbev2\n",
      "17, Currently accessing comments for 8aalz7\n",
      "18, Currently accessing comments for 7u1ag1\n",
      "19, Currently accessing comments for 7ohuvl\n",
      "20, Currently accessing comments for 5ju0g7\n",
      "21, Currently accessing comments for 5fohd4\n",
      "22, Currently accessing comments for 57vno0\n",
      "23, Currently accessing comments for 55hb7l\n",
      "24, Currently accessing comments for 55dndg\n",
      "25, Currently accessing comments for 4y2pof\n",
      "26, Currently accessing comments for 4rrihs\n",
      "27, Currently accessing comments for 4r4kzi\n",
      "28, Currently accessing comments for 4qvi4m\n",
      "29, Currently accessing comments for 4qt241\n",
      "30, Currently accessing comments for e3d0hu\n",
      "31, Currently accessing comments for e1t72t\n",
      "32, Currently accessing comments for dw8dvl\n",
      "33, Currently accessing comments for dtjlr8\n",
      "34, Currently accessing comments for div9ej\n",
      "35, Currently accessing comments for cvqrjl\n",
      "36, Currently accessing comments for csu681\n",
      "37, Currently accessing comments for cs1kft\n",
      "38, Currently accessing comments for ciw6fk\n",
      "39, Currently accessing comments for cbmn13\n",
      "40, Currently accessing comments for c1nhzf\n",
      "41, Currently accessing comments for bkbqn4\n",
      "42, Currently accessing comments for avu918\n",
      "43, Currently accessing comments for f802e4\n",
      "44, Currently accessing comments for f0b229\n",
      "45, Currently accessing comments for esnpwo\n",
      "46, Currently accessing comments for ejd412\n",
      "47, Currently accessing comments for rqlzbt\n",
      "48, Currently accessing comments for rknrto\n",
      "49, Currently accessing comments for qytvua\n",
      "50, Currently accessing comments for qqngr0\n",
      "51, Currently accessing comments for pgoxay\n",
      "52, Currently accessing comments for pbwqe3\n",
      "53, Currently accessing comments for oycaif\n",
      "54, Currently accessing comments for oca75k\n",
      "55, Currently accessing comments for oc62zx\n",
      "56, Currently accessing comments for obszmi\n",
      "57, Currently accessing comments for o4nyh8\n",
      "58, Currently accessing comments for o3re3m\n",
      "59, Currently accessing comments for o1stpp\n",
      "60, Currently accessing comments for nrjile\n",
      "61, Currently accessing comments for nli3kc\n",
      "62, Currently accessing comments for n5j2yr\n",
      "63, Currently accessing comments for mz20eu\n",
      "64, Currently accessing comments for mx9sd8\n",
      "65, Currently accessing comments for mqozrp\n",
      "66, Currently accessing comments for m43q8r\n",
      "67, Currently accessing comments for lqroyt\n",
      "68, Currently accessing comments for lq92dr\n",
      "69, Currently accessing comments for xwt1n3\n",
      "70, Currently accessing comments for xop2wx\n",
      "71, Currently accessing comments for xja1ee\n",
      "72, Currently accessing comments for xh5iy9\n",
      "73, Currently accessing comments for xh4j5c\n",
      "74, Currently accessing comments for x9qpi4\n",
      "75, Currently accessing comments for x2elru\n",
      "76, Currently accessing comments for w9kuqh\n",
      "77, Currently accessing comments for w7hatv\n",
      "78, Currently accessing comments for w5t4m4\n",
      "79, Currently accessing comments for vhmvxt\n",
      "80, Currently accessing comments for vahzlk\n",
      "81, Currently accessing comments for ug6mnw\n",
      "82, Currently accessing comments for ueowtg\n",
      "83, Currently accessing comments for u459ut\n",
      "84, Currently accessing comments for u3ik06\n",
      "85, Currently accessing comments for u2uyhk\n",
      "86, Currently accessing comments for tyb108\n",
      "87, Currently accessing comments for tuu5bk\n",
      "88, Currently accessing comments for szr6p1\n",
      "89, Currently accessing comments for su1akb\n",
      "90, Currently accessing comments for s7zad1\n",
      "91, Currently accessing comments for 623h1b\n",
      "92, Currently accessing comments for 60o1rr\n",
      "93, Currently accessing comments for 5uw2p6\n",
      "94, Currently accessing comments for 5tbzwk\n"
     ]
    }
   ],
   "source": [
    "final_data = {'author':[], 'created_utc':[], 'sub_id':[],'id':[], 'parent_id':[], 'score':[], 'selftext':[]}\n",
    "counter = 1\n",
    "for sub_id in subreddit_ids:\n",
    "    submission = reddit.submission(id=sub_id)\n",
    "    submission.comments.replace_more(limit=None)\n",
    "    for comment in submission.comments.list():\n",
    "        if comment.author != '':\n",
    "            final_data['author'].append(comment.author)\n",
    "        else:\n",
    "            final_data['author'].append('None')\n",
    "        final_data['created_utc'].append(comment.created_utc)\n",
    "        final_data['sub_id'].append(sub_id)\n",
    "        final_data['parent_id'].append(comment.parent_id)\n",
    "        final_data['id'].append(comment.id)\n",
    "        final_data['score'].append(comment.score)\n",
    "        try:\n",
    "            if comment.body != '':\n",
    "                final_data['selftext'].append(comment.body)\n",
    "            else:\n",
    "                final_data['selftext'].append('None')\n",
    "        except:\n",
    "            final_data['selftext'].append('No-Text')\n",
    "         \n",
    "    print(f'{counter}, Currently accessing comments for', sub_id)\n",
    "    counter+=1"
   ]
  },
  {
   "cell_type": "code",
   "execution_count": 40,
   "id": "b0074c9b",
   "metadata": {},
   "outputs": [],
   "source": [
    "final_data = pd.DataFrame(final_data)"
   ]
  },
  {
   "cell_type": "code",
   "execution_count": 42,
   "id": "895cf8fc",
   "metadata": {},
   "outputs": [
    {
     "data": {
      "text/plain": [
       "(266, 7)"
      ]
     },
     "execution_count": 42,
     "metadata": {},
     "output_type": "execute_result"
    }
   ],
   "source": [
    "final_data.shape"
   ]
  },
  {
   "cell_type": "code",
   "execution_count": 1,
   "id": "30f80a65",
   "metadata": {},
   "outputs": [
    {
     "ename": "NameError",
     "evalue": "name 'final_data' is not defined",
     "output_type": "error",
     "traceback": [
      "\u001b[1;31m---------------------------------------------------------------------------\u001b[0m",
      "\u001b[1;31mNameError\u001b[0m                                 Traceback (most recent call last)",
      "\u001b[1;32m~\\AppData\\Local\\Temp\\ipykernel_12576\\226693485.py\u001b[0m in \u001b[0;36m<module>\u001b[1;34m\u001b[0m\n\u001b[1;32m----> 1\u001b[1;33m \u001b[0mfinal_data\u001b[0m\u001b[1;33m.\u001b[0m\u001b[0mto_csv\u001b[0m\u001b[1;33m(\u001b[0m\u001b[1;34m\"aiethics_comments.csv\"\u001b[0m\u001b[1;33m,\u001b[0m \u001b[0mquoting\u001b[0m\u001b[1;33m=\u001b[0m\u001b[0mcsv\u001b[0m\u001b[1;33m.\u001b[0m\u001b[0mQUOTE_NONE\u001b[0m\u001b[1;33m)\u001b[0m\u001b[1;33m\u001b[0m\u001b[1;33m\u001b[0m\u001b[0m\n\u001b[0m",
      "\u001b[1;31mNameError\u001b[0m: name 'final_data' is not defined"
     ]
    }
   ],
   "source": [
    "final_data.to_csv(\"aiethics_comments.csv\", quoting=csv.QUOTE_NONE)"
   ]
  }
 ],
 "metadata": {
  "kernelspec": {
   "display_name": "Python 3 (ipykernel)",
   "language": "python",
   "name": "python3"
  },
  "language_info": {
   "codemirror_mode": {
    "name": "ipython",
    "version": 3
   },
   "file_extension": ".py",
   "mimetype": "text/x-python",
   "name": "python",
   "nbconvert_exporter": "python",
   "pygments_lexer": "ipython3",
   "version": "3.9.13"
  }
 },
 "nbformat": 4,
 "nbformat_minor": 5
}
