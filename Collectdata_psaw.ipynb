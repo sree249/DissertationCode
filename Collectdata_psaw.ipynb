{
 "cells": [
  {
   "cell_type": "markdown",
   "metadata": {},
   "source": [
    "Trying to collect Reddit data from Pushshift.io"
   ]
  },
  {
   "cell_type": "code",
   "execution_count": null,
   "metadata": {},
   "outputs": [],
   "source": [
    "import datetime as dt\n",
    "from psaw import PushshiftAPI"
   ]
  },
  {
   "cell_type": "code",
   "execution_count": null,
   "metadata": {},
   "outputs": [],
   "source": [
    "api = PushshiftAPI()\n",
    "\n",
    "start_time = int(dt.datetime(2018, 1, 1).timestamp())\n",
    "end_time = int(dt.datetime(2021, 1, 1).timestamp())"
   ]
  },
  {
   "cell_type": "code",
   "execution_count": null,
   "metadata": {},
   "outputs": [],
   "source": [
    "dt.datetime.fromtimestamp(start_time).isoformat()"
   ]
  },
  {
   "cell_type": "code",
   "execution_count": null,
   "metadata": {},
   "outputs": [],
   "source": [
    "res = list(api.search_submissions(q = '(worthless) | (struggle) | (hard) | (mental health) | (trauma)',after=start_time, before = end_time,subreddit='womenEngineers'))"
   ]
  },
  {
   "cell_type": "code",
   "execution_count": null,
   "metadata": {},
   "outputs": [],
   "source": [
    "res = list(api.search_submissions(q = '(IT|computer Science|Data Science)',after=start_time, before = end_time,subreddit='womenEngineers'))"
   ]
  },
  {
   "cell_type": "code",
   "execution_count": null,
   "metadata": {},
   "outputs": [],
   "source": [
    "res = list(api.search_submissions(q = '(woman | female) & (struggle | worth | helpless | lost | trauma | mental health)',after=start_time, before = end_time,subreddit='careerguidance'))"
   ]
  },
  {
   "cell_type": "code",
   "execution_count": null,
   "metadata": {},
   "outputs": [],
   "source": [
    "res = list(api.search_submissions(q = '(woman | female) & (IT|computer science|CS|data science)',after=start_time, before = end_time,subreddit='careerguidance'))"
   ]
  },
  {
   "cell_type": "code",
   "execution_count": null,
   "metadata": {},
   "outputs": [],
   "source": [
    "res = list(api.search_submissions(q = '(career) & (woman)',after=start_time, before = end_time,subreddit='TwoXChromosomes'))"
   ]
  },
  {
   "cell_type": "code",
   "execution_count": null,
   "metadata": {},
   "outputs": [],
   "source": [
    "res = list(api.search_submissions(q = '',after=start_time, before = end_time,subreddit='Careerwomen'))"
   ]
  },
  {
   "cell_type": "code",
   "execution_count": null,
   "metadata": {},
   "outputs": [],
   "source": [
    "res = list(api.search_submissions(q = '(woman | female) & career',after=start_time, before = end_time,subreddit='bullying'))"
   ]
  },
  {
   "cell_type": "code",
   "execution_count": null,
   "metadata": {},
   "outputs": [],
   "source": [
    "res = list(api.search_submissions(q = '(woman | female)',after=start_time, before = end_time,subreddit='CSCareerquestions'))"
   ]
  },
  {
   "cell_type": "code",
   "execution_count": null,
   "metadata": {},
   "outputs": [],
   "source": [
    "res = list(api.search_submissions(q = '',after=start_time, before = end_time, subreddit='CSCareerquestions'))"
   ]
  },
  {
   "cell_type": "code",
   "execution_count": null,
   "metadata": {},
   "outputs": [],
   "source": [
    "res = list(api.search_submissions(q = '',after=start_time, before = end_time,subreddit='girlsgonewired'))"
   ]
  },
  {
   "cell_type": "code",
   "execution_count": null,
   "metadata": {},
   "outputs": [],
   "source": [
    "len(res)"
   ]
  },
  {
   "cell_type": "code",
   "execution_count": null,
   "metadata": {},
   "outputs": [],
   "source": [
    "100*802/223117\n"
   ]
  },
  {
   "cell_type": "code",
   "execution_count": null,
   "metadata": {},
   "outputs": [],
   "source": [
    "print(res[6].link_flair_richtext)"
   ]
  },
  {
   "cell_type": "code",
   "execution_count": null,
   "metadata": {},
   "outputs": [],
   "source": [
    "res[9].selftext"
   ]
  },
  {
   "cell_type": "code",
   "execution_count": null,
   "metadata": {},
   "outputs": [],
   "source": [
    "final_data = {'author':[], 'created_utc':[],  'id':[], 'url':[], 'score':[], 'num_comments':[], 'Title': [], 'selftext':[]}"
   ]
  },
  {
   "cell_type": "code",
   "execution_count": null,
   "metadata": {
    "scrolled": false
   },
   "outputs": [],
   "source": [
    "counter = 1\n",
    "for sub in res:\n",
    "    if sub.author != '':\n",
    "        final_data['author'].append(sub.author)\n",
    "    else:\n",
    "        final_data['author'].append('None')\n",
    "    final_data['created_utc'].append(sub.created_utc)\n",
    "    final_data['id'].append(sub.id)\n",
    "    final_data['score'].append(sub.score)\n",
    "    final_data['num_comments'].append(sub.num_comments)\n",
    "    final_data['url'].append(sub.url)\n",
    "    try:\n",
    "        if sub.selftext != '':\n",
    "            final_data['selftext'].append(sub.selftext)\n",
    "        else:\n",
    "            final_data['selftext'].append('None')\n",
    "    except:\n",
    "        final_data['selftext'].append('No-Text')\n",
    "        \n",
    "    try:\n",
    "        if sub.title != '':\n",
    "            final_data['Title'].append(sub.title)\n",
    "        else:\n",
    "            final_data['Title'].append('None')\n",
    "    except:\n",
    "        final_data['Title'].append('No-Text')\n",
    "        \n",
    "    print('Counter is:', counter, 'Currently accessing data for', sub.id)\n",
    "    counter+=1"
   ]
  },
  {
   "cell_type": "code",
   "execution_count": null,
   "metadata": {},
   "outputs": [],
   "source": [
    "import pandas as pd"
   ]
  },
  {
   "cell_type": "code",
   "execution_count": null,
   "metadata": {},
   "outputs": [],
   "source": [
    "import pandas as pd\n",
    "final_data = pd.DataFrame(final_data)"
   ]
  },
  {
   "cell_type": "code",
   "execution_count": null,
   "metadata": {},
   "outputs": [],
   "source": [
    "final_data = final_data[~final_data['selftext'].str.contains(\"pregnanc|sex|relationship|dating|kids|rap|murder|porn|cheat|onlyfans|badass\")]"
   ]
  },
  {
   "cell_type": "code",
   "execution_count": null,
   "metadata": {},
   "outputs": [],
   "source": [
    "final_data = final_data[~final_data['Title'].str.contains(\"pregnanc|sex|relationship|dating|kids|rap|murder|porn|cheat|onlyfans|badass\")]"
   ]
  },
  {
   "cell_type": "code",
   "execution_count": null,
   "metadata": {},
   "outputs": [],
   "source": [
    "final_data.shape"
   ]
  },
  {
   "cell_type": "code",
   "execution_count": null,
   "metadata": {},
   "outputs": [],
   "source": [
    "final_data.to_csv(\"girlsgonewired_5YR.csv\")"
   ]
  },
  {
   "cell_type": "code",
   "execution_count": null,
   "metadata": {},
   "outputs": [],
   "source": [
    "final_data.to_csv(\"TwoXchromosomes_womenposts_subsampled_v3_extendedtime.csv\")"
   ]
  },
  {
   "cell_type": "code",
   "execution_count": null,
   "metadata": {},
   "outputs": [],
   "source": [
    "final_data.to_csv(\"CSCareerquestions_2018_2021_Sample.csv\")"
   ]
  },
  {
   "cell_type": "code",
   "execution_count": null,
   "metadata": {},
   "outputs": [],
   "source": [
    "final_data.to_csv(\"Careerwomen_5YR.csv\")"
   ]
  }
 ],
 "metadata": {
  "kernelspec": {
   "display_name": "Python 3",
   "language": "python",
   "name": "python3"
  },
  "language_info": {
   "codemirror_mode": {
    "name": "ipython",
    "version": 3
   },
   "file_extension": ".py",
   "mimetype": "text/x-python",
   "name": "python",
   "nbconvert_exporter": "python",
   "pygments_lexer": "ipython3",
   "version": "3.7.3"
  }
 },
 "nbformat": 4,
 "nbformat_minor": 2
}
